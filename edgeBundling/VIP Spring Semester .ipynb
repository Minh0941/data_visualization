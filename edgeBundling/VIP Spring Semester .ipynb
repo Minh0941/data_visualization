{
 "cells": [
  {
   "cell_type": "code",
   "execution_count": 33,
   "id": "4864df0d",
   "metadata": {},
   "outputs": [],
   "source": [
    "using CSV, DataFrames, JSON"
   ]
  },
  {
   "cell_type": "code",
   "execution_count": 34,
   "id": "5622dec1",
   "metadata": {},
   "outputs": [],
   "source": [
    "mutable struct format\n",
    "    name\n",
    "    size\n",
    "    imports\n",
    "end"
   ]
  },
  {
   "cell_type": "code",
   "execution_count": 35,
   "id": "0541444d",
   "metadata": {},
   "outputs": [
    {
     "data": {
      "text/html": [
       "<table class=\"data-frame\"><thead><tr><th></th><th>Course</th><th>LO</th></tr><tr><th></th><th>String</th><th>String</th></tr></thead><tbody><p>38 rows × 5 columns (omitted printing of 3 columns)</p><tr><th>1</th><td>Course 1: Precalculus</td><td>MA01: Analyzing and interpreting the structure of polynomial, rational, and exponential functions.</td></tr><tr><th>2</th><td>Course 1: Precalculus</td><td>MA02: Exploring mathematical reasoning used in trigonometric functions.</td></tr><tr><th>3</th><td>Course 1: Precalculus</td><td>MA03: Demonstrating and understanding of matrices and solving systems using matrix equations.</td></tr><tr><th>4</th><td>Course 1: Precalculus</td><td>MA04: Exploring and calculating theoretical probabilities and developing a probability distribution for a random variable.</td></tr><tr><th>5</th><td>Course 1: Precalculus</td><td>MA05: Classifying conic equations and constructing graphs of conic sections.</td></tr><tr><th>6</th><td>Course 2: Calculus 1</td><td>MA06: Use derivatives to analyze and graph algebraic and transcendental functions</td></tr><tr><th>7</th><td>Course 2: Calculus 1</td><td>MA07: Select and apply models and differentiation techniques to applications </td></tr><tr><th>8</th><td>Course 2: Calculus 1</td><td>MA08: Apply the Fundamental Theorem of Calculus to evaluate integrals</td></tr><tr><th>9</th><td>Course 2: Calculus 1</td><td>MA09: Use estimation techniques to approximate rates of change, area, and total change</td></tr><tr><th>10</th><td>Course 3: Calculus 2</td><td>MA10: Use techniques of analytical and numerical integration;</td></tr><tr><th>11</th><td>Course 3: Calculus 2</td><td>MA11: Apply the definite integral to problems arising in geometry and in either physics or probability</td></tr><tr><th>12</th><td>Course 3: Calculus 2</td><td>MA12: Work with the concept of infinite series and be able to calculate and use Taylor series</td></tr><tr><th>13</th><td>Course 3: Calculus 2</td><td>MA13: Analyze first order differential equations from a graphical and algebraic point of view</td></tr><tr><th>14</th><td>Course 4: Differential Equation</td><td>MA14: Explain the concept of differential equation</td></tr><tr><th>15</th><td>Course 4: Differential Equation</td><td>MA15: Solve first-order ordinary differential equations</td></tr><tr><th>16</th><td>Course 4: Differential Equation</td><td>MA16: Find solution of higher-order linear differential equations. </td></tr><tr><th>17</th><td>Course 4: Differential Equation</td><td>MA17: Solve systems of linear differential equations. </td></tr><tr><th>18</th><td>Course 4: Differential Equation</td><td>MA18: Use the Laplace transform in finding the solution of linear differential equations. </td></tr><tr><th>19</th><td>Course 5: Physics 1</td><td>PH01: Understand the concepts, laws, and principles used in mechanics and generate associations</td></tr><tr><th>20</th><td>Course 5: Physics 1</td><td>PH02: Understand different type of energy and be able to analyze related parameters in a motion system</td></tr><tr><th>21</th><td>Course 5: Physics 1</td><td>PH03: Use fundamental physical principles to understand how everyday objects work.</td></tr><tr><th>22</th><td>Course 5: Physics 1</td><td>PH04: Understand and analyze typical periodic motion system</td></tr><tr><th>23</th><td>Course 6: Physics 2</td><td>PH05: Understand Coulomb's and Gauss' Laws</td></tr><tr><th>24</th><td>Course 6: Physics 2</td><td>PH06: Basic understanding of electric fields and potentials, electrical and magnetic properties of matter</td></tr><tr><th>25</th><td>Course 6: Physics 2</td><td>PH07: Use of Ampere's and Faraday's Laws to understand induced electromotive forces</td></tr><tr><th>26</th><td>Course 6: Physics 2</td><td>PH08: Ability to analyze elementary DC and AC circuits,</td></tr><tr><th>27</th><td>Course 6: Physics 2</td><td>PH09: Understand electromagnetic waves and Maxwell's equations.</td></tr><tr><th>28</th><td>Course 7: Circuit 1</td><td>EE01: Understand ideal basic circuit elements, power, and energy</td></tr><tr><th>29</th><td>Course 7: Circuit 1</td><td>EE02: Ability to construct basic electrical circuits, and apply Omh's law and Kirchhoff's laws</td></tr><tr><th>30</th><td>Course 7: Circuit 1</td><td>EE03: Ability to analyze simple resistive circuits, voltage divider circuits, and current-divider circuits</td></tr><tr><th>&vellip;</th><td>&vellip;</td><td>&vellip;</td></tr></tbody></table>"
      ],
      "text/latex": [
       "\\begin{tabular}{r|ccc}\n",
       "\t& Course & LO & \\\\\n",
       "\t\\hline\n",
       "\t& String & String & \\\\\n",
       "\t\\hline\n",
       "\t1 & Course 1: Precalculus & MA01: Analyzing and interpreting the structure of polynomial, rational, and exponential functions. & $\\dots$ \\\\\n",
       "\t2 & Course 1: Precalculus & MA02: Exploring mathematical reasoning used in trigonometric functions. & $\\dots$ \\\\\n",
       "\t3 & Course 1: Precalculus & MA03: Demonstrating and understanding of matrices and solving systems using matrix equations. & $\\dots$ \\\\\n",
       "\t4 & Course 1: Precalculus & MA04: Exploring and calculating theoretical probabilities and developing a probability distribution for a random variable. & $\\dots$ \\\\\n",
       "\t5 & Course 1: Precalculus & MA05: Classifying conic equations and constructing graphs of conic sections. & $\\dots$ \\\\\n",
       "\t6 & Course 2: Calculus 1 & MA06: Use derivatives to analyze and graph algebraic and transcendental functions & $\\dots$ \\\\\n",
       "\t7 & Course 2: Calculus 1 & MA07: Select and apply models and differentiation techniques to applications  & $\\dots$ \\\\\n",
       "\t8 & Course 2: Calculus 1 & MA08: Apply the Fundamental Theorem of Calculus to evaluate integrals & $\\dots$ \\\\\n",
       "\t9 & Course 2: Calculus 1 & MA09: Use estimation techniques to approximate rates of change, area, and total change & $\\dots$ \\\\\n",
       "\t10 & Course 3: Calculus 2 & MA10: Use techniques of analytical and numerical integration; & $\\dots$ \\\\\n",
       "\t11 & Course 3: Calculus 2 & MA11: Apply the definite integral to problems arising in geometry and in either physics or probability & $\\dots$ \\\\\n",
       "\t12 & Course 3: Calculus 2 & MA12: Work with the concept of infinite series and be able to calculate and use Taylor series & $\\dots$ \\\\\n",
       "\t13 & Course 3: Calculus 2 & MA13: Analyze first order differential equations from a graphical and algebraic point of view & $\\dots$ \\\\\n",
       "\t14 & Course 4: Differential Equation & MA14: Explain the concept of differential equation & $\\dots$ \\\\\n",
       "\t15 & Course 4: Differential Equation & MA15: Solve first-order ordinary differential equations & $\\dots$ \\\\\n",
       "\t16 & Course 4: Differential Equation & MA16: Find solution of higher-order linear differential equations.  & $\\dots$ \\\\\n",
       "\t17 & Course 4: Differential Equation & MA17: Solve systems of linear differential equations.  & $\\dots$ \\\\\n",
       "\t18 & Course 4: Differential Equation & MA18: Use the Laplace transform in finding the solution of linear differential equations.  & $\\dots$ \\\\\n",
       "\t19 & Course 5: Physics 1 & PH01: Understand the concepts, laws, and principles used in mechanics and generate associations & $\\dots$ \\\\\n",
       "\t20 & Course 5: Physics 1 & PH02: Understand different type of energy and be able to analyze related parameters in a motion system & $\\dots$ \\\\\n",
       "\t21 & Course 5: Physics 1 & PH03: Use fundamental physical principles to understand how everyday objects work. & $\\dots$ \\\\\n",
       "\t22 & Course 5: Physics 1 & PH04: Understand and analyze typical periodic motion system & $\\dots$ \\\\\n",
       "\t23 & Course 6: Physics 2 & PH05: Understand Coulomb's and Gauss' Laws & $\\dots$ \\\\\n",
       "\t24 & Course 6: Physics 2 & PH06: Basic understanding of electric fields and potentials, electrical and magnetic properties of matter & $\\dots$ \\\\\n",
       "\t25 & Course 6: Physics 2 & PH07: Use of Ampere's and Faraday's Laws to understand induced electromotive forces & $\\dots$ \\\\\n",
       "\t26 & Course 6: Physics 2 & PH08: Ability to analyze elementary DC and AC circuits, & $\\dots$ \\\\\n",
       "\t27 & Course 6: Physics 2 & PH09: Understand electromagnetic waves and Maxwell's equations. & $\\dots$ \\\\\n",
       "\t28 & Course 7: Circuit 1 & EE01: Understand ideal basic circuit elements, power, and energy & $\\dots$ \\\\\n",
       "\t29 & Course 7: Circuit 1 & EE02: Ability to construct basic electrical circuits, and apply Omh's law and Kirchhoff's laws & $\\dots$ \\\\\n",
       "\t30 & Course 7: Circuit 1 & EE03: Ability to analyze simple resistive circuits, voltage divider circuits, and current-divider circuits & $\\dots$ \\\\\n",
       "\t$\\dots$ & $\\dots$ & $\\dots$ &  \\\\\n",
       "\\end{tabular}\n"
      ],
      "text/plain": [
       "38×5 DataFrame. Omitted printing of 4 columns\n",
       "│ Row │ Course                │\n",
       "│     │ \u001b[90mString\u001b[39m                │\n",
       "├─────┼───────────────────────┤\n",
       "│ 1   │ Course 1: Precalculus │\n",
       "│ 2   │ Course 1: Precalculus │\n",
       "│ 3   │ Course 1: Precalculus │\n",
       "│ 4   │ Course 1: Precalculus │\n",
       "│ 5   │ Course 1: Precalculus │\n",
       "│ 6   │ Course 2: Calculus 1  │\n",
       "│ 7   │ Course 2: Calculus 1  │\n",
       "│ 8   │ Course 2: Calculus 1  │\n",
       "│ 9   │ Course 2: Calculus 1  │\n",
       "│ 10  │ Course 3: Calculus 2  │\n",
       "⋮\n",
       "│ 28  │ Course 7: Circuit 1   │\n",
       "│ 29  │ Course 7: Circuit 1   │\n",
       "│ 30  │ Course 7: Circuit 1   │\n",
       "│ 31  │ Course 7: Circuit 1   │\n",
       "│ 32  │ Course 7: Circuit 1   │\n",
       "│ 33  │ Course 7: Circuit 1   │\n",
       "│ 34  │ Course 8: Circuit 2   │\n",
       "│ 35  │ Course 8: Circuit 2   │\n",
       "│ 36  │ Course 8: Circuit 2   │\n",
       "│ 37  │ Course 8: Circuit 2   │\n",
       "│ 38  │ Course 8: Circuit 2   │"
      ]
     },
     "execution_count": 35,
     "metadata": {},
     "output_type": "execute_result"
    }
   ],
   "source": [
    "data= DataFrame(CSV.File(\"./Cleaned_ECE.csv\"))"
   ]
  },
  {
   "cell_type": "code",
   "execution_count": 36,
   "id": "dbf92455",
   "metadata": {},
   "outputs": [
    {
     "name": "stdout",
     "output_type": "stream",
     "text": [
      "Dict(\"MA11\" => \"Course 3: Calculus 2.MA11\", \"PH01\" => \"Course 5: Physics 1.PH01\", \"MA05\" => \"Course 1: Precalculus.MA05\", \"PH02\" => \"Course 5: Physics 1.PH02\", \"MA15\" => \"Course 4: Differential Equation.MA15\", \"MA17\" => \"Course 4: Differential Equation.MA17\", \"MA13\" => \"Course 3: Calculus 2.MA13\", \"PH08\" => \"Course 6: Physics 2.PH08\", \"MA03\" => \"Course 1: Precalculus.MA03\", \"MA12\" => \"Course 3: Calculus 2.MA12\", \"EE10\" => \"Course 8: Circuit 2.EE10\", \"MA16\" => \"Course 4: Differential Equation.MA16\", \"EE11\" => \"Course 8: Circuit 2.EE11\", \"PH09\" => \"Course 6: Physics 2.PH09\", \"MA10\" => \"Course 3: Calculus 2.MA10\", \"PH06\" => \"Course 6: Physics 2.PH06\", \"EE05\" => \"Course 7: Circuit 1.EE05\", \"EE01\" => \"Course 7: Circuit 1.EE01\", \"MA14\" => \"Course 4: Differential Equation.MA14\", \"MA01\" => \"Course 1: Precalculus.MA01\", \"MA08\" => \"Course 2: Calculus 1.MA08\", \"PH07\" => \"Course 6: Physics 2.PH07\", \"PH05\" => \"Course 6: Physics 2.PH05\", \"EE06\" => \"Course 7: Circuit 1.EE06\", \"PH03\" => \"Course 5: Physics 1.PH03\", \"MA02\" => \"Course 1: Precalculus.MA02\", \"MA04\" => \"Course 1: Precalculus.MA04\", \"MA09\" => \"Course 2: Calculus 1.MA09\", \"EE07\" => \"Course 8: Circuit 2.EE07\", \"EE03\" => \"Course 7: Circuit 1.EE03\", \"MA06\" => \"Course 2: Calculus 1.MA06\", \"EE09\" => \"Course 8: Circuit 2.EE09\", \"MA18\" => \"Course 4: Differential Equation.MA18\", \"PH04\" => \"Course 5: Physics 1.PH04\", \"EE04\" => \"Course 7: Circuit 1.EE04\", \"EE02\" => \"Course 7: Circuit 1.EE02\", \"MA07\" => \"Course 2: Calculus 1.MA07\", \"EE08\" => \"Course 8: Circuit 2.EE08\")\n"
     ]
    }
   ],
   "source": [
    "source_outcomes = Dict{String,String}()\n",
    "\n",
    "for row in eachrow(data)\n",
    "    key =row.LO[1:4]\n",
    "    value = row.Course *\".\" *row.LO[1:4]\n",
    "    source_outcomes[key]= value\n",
    "end\n",
    "println(source_outcomes)"
   ]
  },
  {
   "cell_type": "code",
   "execution_count": 37,
   "id": "cfc26194",
   "metadata": {},
   "outputs": [
    {
     "data": {
      "text/plain": [
       "38-element Vector{Union{Missing, String}}:\n",
       " missing\n",
       " \"MA01\"\n",
       " \"MA02\"\n",
       " \"MA02\"\n",
       " \"MA02\"\n",
       " \"MA02\"\n",
       " \"MA06\"\n",
       " \"MA07\"\n",
       " \"MA08\"\n",
       " \"MA08\"\n",
       " \"MA10\"\n",
       " \"MA02\"\n",
       " \"MA10\"\n",
       " ⋮\n",
       " \"PH08\"\n",
       " missing\n",
       " \"EE01;MA11\"\n",
       " \"EE02\"\n",
       " \"EE03;PH08\"\n",
       " \"EE04;PH08\"\n",
       " \"EE03;MA06\"\n",
       " \"EE06;MA16\"\n",
       " \"EE07\"\n",
       " \"EE08;MA18\"\n",
       " \"EE09\"\n",
       " \"EE09;EE10\""
      ]
     },
     "execution_count": 37,
     "metadata": {},
     "output_type": "execute_result"
    }
   ],
   "source": [
    "data.LOP"
   ]
  },
  {
   "cell_type": "code",
   "execution_count": 38,
   "id": "d8213e57",
   "metadata": {},
   "outputs": [
    {
     "name": "stdout",
     "output_type": "stream",
     "text": [
      "Course 1: Precalculus.MA01\n",
      "Course 1: Precalculus.MA02\n",
      "Course 1: Precalculus.MA02\n",
      "Course 1: Precalculus.MA02\n",
      "Course 1: Precalculus.MA02\n",
      "Course 2: Calculus 1.MA06\n",
      "Course 2: Calculus 1.MA07\n",
      "Course 2: Calculus 1.MA08\n",
      "Course 2: Calculus 1.MA08\n",
      "Course 3: Calculus 2.MA10\n",
      "Course 1: Precalculus.MA02\n",
      "Course 3: Calculus 2.MA10\n",
      "Course 2: Calculus 1.MA06\n",
      "Course 4: Differential Equation.MA15\n",
      "Course 4: Differential Equation.MA16\n",
      "Course 4: Differential Equation.MA17\n",
      "Course 2: Calculus 1.MA06\n",
      "Course 5: Physics 1.PH01\n",
      "Course 5: Physics 1.PH02\n",
      "Course 6: Physics 2.PH05\n",
      "Course 6: Physics 2.PH06\n",
      "Course 6: Physics 2.PH08\n",
      "Course 7: Circuit 1.EE02\n",
      "Course 8: Circuit 2.EE07\n",
      "Course 8: Circuit 2.EE09\n"
     ]
    }
   ],
   "source": [
    "for row in eachrow(data)\n",
    "    if (row.LOP=== missing)\n",
    "        continue\n",
    "    else\n",
    "        if (occursin(\";\",row.LOP))      \n",
    "            strings = split(row.LOP,\";\")\n",
    "              temp=\"\"\n",
    "            j=0\n",
    "            for i in strings\n",
    "                if haskey(source_outcomes,i) \n",
    "                    if (j >= 1)\n",
    "                        temp= temp * \",\" *source_outcomes[i] \n",
    "                    else\n",
    "                        temp= source_outcomes[i]\n",
    "                    end\n",
    "                end\n",
    "                j+=1\n",
    "            end\n",
    "            row.LOP= temp\n",
    "            \n",
    "        else\n",
    "            temp=source_outcomes[row.LOP]\n",
    "            row.LOP= temp\n",
    "            println(row.LOP)\n",
    "        end\n",
    "    \n",
    "    end\n",
    "    #print(row.LOP)\n",
    "            \n",
    "end\n"
   ]
  },
  {
   "cell_type": "code",
   "execution_count": 39,
   "id": "d64142da",
   "metadata": {},
   "outputs": [],
   "source": [
    "json_file= \"test_json_file\" *\".json\"\n",
    "open(\"test_json_file\",\"w\") do io\n",
    "end"
   ]
  },
  {
   "cell_type": "code",
   "execution_count": 40,
   "id": "73b9eb1e",
   "metadata": {},
   "outputs": [],
   "source": [
    "open(\"test_json_file\",\"w\") do io\n",
    "    empty_array=[]\n",
    "    for row in eachrow(data)\n",
    "        code= row.Course *\".\"* row.LO[1:4]\n",
    "        size=1\n",
    "        my_array=[]\n",
    "        if (row.LOP=== missing)\n",
    "            temp=format(code,size,my_array)\n",
    "        else\n",
    "        \n",
    "            if(occursin(\",\",row.LOP))\n",
    "                strings= split(row.LOP, \",\")\n",
    "                for i in strings\n",
    "                    push!(my_array, i)\n",
    "                end\n",
    "            else\n",
    "                push!(my_array,row.LOP)\n",
    "            end\n",
    "        end\n",
    "        temp=format(code,size,my_array)\n",
    "        push!(empty_array,temp)\n",
    "    end\n",
    "        JSON.print(io,empty_array)\n",
    "        println(io)\n",
    "    \n",
    "end"
   ]
  }
 ],
 "metadata": {
  "@webio": {
   "lastCommId": "109a0beb0e494d4ab612bdd0e4561b43",
   "lastKernelId": "686a276c-edac-453a-ae27-e4d0cf8c2a86"
  },
  "kernelspec": {
   "display_name": "Julia 1.8.0",
   "language": "julia",
   "name": "julia-1.8"
  },
  "language_info": {
   "file_extension": ".jl",
   "mimetype": "application/julia",
   "name": "julia",
   "version": "1.8.0"
  }
 },
 "nbformat": 4,
 "nbformat_minor": 5
}
