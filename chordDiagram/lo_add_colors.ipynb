{
 "cells": [
  {
   "cell_type": "code",
   "execution_count": 1,
   "id": "5a2cbe80",
   "metadata": {},
   "outputs": [],
   "source": [
    "using CSV, DataFrames"
   ]
  },
  {
   "cell_type": "code",
   "execution_count": 2,
   "id": "e321d477",
   "metadata": {},
   "outputs": [
    {
     "data": {
      "text/html": [
       "<table class=\"data-frame\"><thead><tr><th></th><th>Courses</th><th>LO</th></tr><tr><th></th><th>String</th><th>String</th></tr></thead><tbody><p>38 rows × 5 columns (omitted printing of 3 columns)</p><tr><th>1</th><td>Course 1: Precalculus</td><td>MA01: Analyzing and interpreting the structure of polynomial, rational, and exponential functions.</td></tr><tr><th>2</th><td>Course 1: Precalculus</td><td>MA02: Exploring mathematical reasoning used in trigonometric functions.</td></tr><tr><th>3</th><td>Course 1: Precalculus</td><td>MA03: Demonstrating and understanding of matrices and solving systems using matrix equations.</td></tr><tr><th>4</th><td>Course 1: Precalculus</td><td>MA04: Exploring and calculating theoretical probabilities and developing a probability distribution for a random variable.</td></tr><tr><th>5</th><td>Course 1: Precalculus</td><td>MA05: Classifying conic equations and constructing graphs of conic sections.</td></tr><tr><th>6</th><td>Course 2: Calculus 1</td><td>MA06: Use derivatives to analyze and graph algebraic and transcendental functions</td></tr><tr><th>7</th><td>Course 2: Calculus 1</td><td>MA07: Select and apply models and differentiation techniques to applications </td></tr><tr><th>8</th><td>Course 2: Calculus 1</td><td>MA08: Apply the Fundamental Theorem of Calculus to evaluate integrals</td></tr><tr><th>9</th><td>Course 2: Calculus 1</td><td>MA09: Use estimation techniques to approximate rates of change, area, and total change</td></tr><tr><th>10</th><td>Course 3: Calculus 2</td><td>MA10: Use techniques of analytical and numerical integration;</td></tr><tr><th>11</th><td>Course 3: Calculus 2</td><td>MA11: Apply the definite integral to problems arising in geometry and in either physics or probability</td></tr><tr><th>12</th><td>Course 3: Calculus 2</td><td>MA12: Work with the concept of infinite series and be able to calculate and use Taylor series</td></tr><tr><th>13</th><td>Course 3: Calculus 2</td><td>MA13: Analyze first order differential equations from a graphical and algebraic point of view</td></tr><tr><th>14</th><td>Course 4: Differential Equation</td><td>MA14: Explain the concept of differential equation</td></tr><tr><th>15</th><td>Course 4: Differential Equation</td><td>MA15: Solve first-order ordinary differential equations</td></tr><tr><th>16</th><td>Course 4: Differential Equation</td><td>MA16: Find solution of higher-order linear differential equations. </td></tr><tr><th>17</th><td>Course 4: Differential Equation</td><td>MA17: Solve systems of linear differential equations. </td></tr><tr><th>18</th><td>Course 4: Differential Equation</td><td>MA18: Use the Laplace transform in finding the solution of linear differential equations. </td></tr><tr><th>19</th><td>Courses 5: Physics 1</td><td>PH01: Understand the concepts, laws, and principles used in mechanics and generate associations</td></tr><tr><th>20</th><td>Courses 5: Physics 1</td><td>PH02: Understand different type of energy and be able to analyze related parameters in a motion system</td></tr><tr><th>21</th><td>Courses 5: Physics 1</td><td>PH03: Use fundamental physical principles to understand how everyday objects work.</td></tr><tr><th>22</th><td>Courses 5: Physics 1</td><td>PH04: Understand and analyze typical periodic motion system</td></tr><tr><th>23</th><td>Courses 6: Physics 2</td><td>PH05: Understand Coulomb's and Gauss' Laws</td></tr><tr><th>24</th><td>Courses 6: Physics 2</td><td>PH06: Basic understanding of electric fields and potentials, electrical and magnetic properties of matter</td></tr><tr><th>25</th><td>Courses 6: Physics 2</td><td>PH07: Use of Ampere's and Faraday's Laws to understand induced electromotive forces</td></tr><tr><th>26</th><td>Courses 6: Physics 2</td><td>PH08: Ability to analyze elementary DC and AC circuits,</td></tr><tr><th>27</th><td>Courses 6: Physics 2</td><td>PH09: Understand electromagnetic waves and Maxwell's equations.</td></tr><tr><th>28</th><td>Course 7: Circuit 1</td><td>EE01: Understand ideal basic circuit elements, power, and energy</td></tr><tr><th>29</th><td>Course 7: Circuit 1</td><td>EE02: Ability to construct basic electrical circuits, and apply Omh's law and Kirchhoff's laws</td></tr><tr><th>30</th><td>Course 7: Circuit 1</td><td>EE03: Ability to analyze simple resistive circuits, voltage divider circuits, and current-divider circuits</td></tr><tr><th>&vellip;</th><td>&vellip;</td><td>&vellip;</td></tr></tbody></table>"
      ],
      "text/latex": [
       "\\begin{tabular}{r|ccc}\n",
       "\t& Courses & LO & \\\\\n",
       "\t\\hline\n",
       "\t& String & String & \\\\\n",
       "\t\\hline\n",
       "\t1 & Course 1: Precalculus & MA01: Analyzing and interpreting the structure of polynomial, rational, and exponential functions. & $\\dots$ \\\\\n",
       "\t2 & Course 1: Precalculus & MA02: Exploring mathematical reasoning used in trigonometric functions. & $\\dots$ \\\\\n",
       "\t3 & Course 1: Precalculus & MA03: Demonstrating and understanding of matrices and solving systems using matrix equations. & $\\dots$ \\\\\n",
       "\t4 & Course 1: Precalculus & MA04: Exploring and calculating theoretical probabilities and developing a probability distribution for a random variable. & $\\dots$ \\\\\n",
       "\t5 & Course 1: Precalculus & MA05: Classifying conic equations and constructing graphs of conic sections. & $\\dots$ \\\\\n",
       "\t6 & Course 2: Calculus 1 & MA06: Use derivatives to analyze and graph algebraic and transcendental functions & $\\dots$ \\\\\n",
       "\t7 & Course 2: Calculus 1 & MA07: Select and apply models and differentiation techniques to applications  & $\\dots$ \\\\\n",
       "\t8 & Course 2: Calculus 1 & MA08: Apply the Fundamental Theorem of Calculus to evaluate integrals & $\\dots$ \\\\\n",
       "\t9 & Course 2: Calculus 1 & MA09: Use estimation techniques to approximate rates of change, area, and total change & $\\dots$ \\\\\n",
       "\t10 & Course 3: Calculus 2 & MA10: Use techniques of analytical and numerical integration; & $\\dots$ \\\\\n",
       "\t11 & Course 3: Calculus 2 & MA11: Apply the definite integral to problems arising in geometry and in either physics or probability & $\\dots$ \\\\\n",
       "\t12 & Course 3: Calculus 2 & MA12: Work with the concept of infinite series and be able to calculate and use Taylor series & $\\dots$ \\\\\n",
       "\t13 & Course 3: Calculus 2 & MA13: Analyze first order differential equations from a graphical and algebraic point of view & $\\dots$ \\\\\n",
       "\t14 & Course 4: Differential Equation & MA14: Explain the concept of differential equation & $\\dots$ \\\\\n",
       "\t15 & Course 4: Differential Equation & MA15: Solve first-order ordinary differential equations & $\\dots$ \\\\\n",
       "\t16 & Course 4: Differential Equation & MA16: Find solution of higher-order linear differential equations.  & $\\dots$ \\\\\n",
       "\t17 & Course 4: Differential Equation & MA17: Solve systems of linear differential equations.  & $\\dots$ \\\\\n",
       "\t18 & Course 4: Differential Equation & MA18: Use the Laplace transform in finding the solution of linear differential equations.  & $\\dots$ \\\\\n",
       "\t19 & Courses 5: Physics 1 & PH01: Understand the concepts, laws, and principles used in mechanics and generate associations & $\\dots$ \\\\\n",
       "\t20 & Courses 5: Physics 1 & PH02: Understand different type of energy and be able to analyze related parameters in a motion system & $\\dots$ \\\\\n",
       "\t21 & Courses 5: Physics 1 & PH03: Use fundamental physical principles to understand how everyday objects work. & $\\dots$ \\\\\n",
       "\t22 & Courses 5: Physics 1 & PH04: Understand and analyze typical periodic motion system & $\\dots$ \\\\\n",
       "\t23 & Courses 6: Physics 2 & PH05: Understand Coulomb's and Gauss' Laws & $\\dots$ \\\\\n",
       "\t24 & Courses 6: Physics 2 & PH06: Basic understanding of electric fields and potentials, electrical and magnetic properties of matter & $\\dots$ \\\\\n",
       "\t25 & Courses 6: Physics 2 & PH07: Use of Ampere's and Faraday's Laws to understand induced electromotive forces & $\\dots$ \\\\\n",
       "\t26 & Courses 6: Physics 2 & PH08: Ability to analyze elementary DC and AC circuits, & $\\dots$ \\\\\n",
       "\t27 & Courses 6: Physics 2 & PH09: Understand electromagnetic waves and Maxwell's equations. & $\\dots$ \\\\\n",
       "\t28 & Course 7: Circuit 1 & EE01: Understand ideal basic circuit elements, power, and energy & $\\dots$ \\\\\n",
       "\t29 & Course 7: Circuit 1 & EE02: Ability to construct basic electrical circuits, and apply Omh's law and Kirchhoff's laws & $\\dots$ \\\\\n",
       "\t30 & Course 7: Circuit 1 & EE03: Ability to analyze simple resistive circuits, voltage divider circuits, and current-divider circuits & $\\dots$ \\\\\n",
       "\t$\\dots$ & $\\dots$ & $\\dots$ &  \\\\\n",
       "\\end{tabular}\n"
      ],
      "text/plain": [
       "38×5 DataFrame. Omitted printing of 4 columns\n",
       "│ Row │ Courses               │\n",
       "│     │ \u001b[90mString\u001b[39m                │\n",
       "├─────┼───────────────────────┤\n",
       "│ 1   │ Course 1: Precalculus │\n",
       "│ 2   │ Course 1: Precalculus │\n",
       "│ 3   │ Course 1: Precalculus │\n",
       "│ 4   │ Course 1: Precalculus │\n",
       "│ 5   │ Course 1: Precalculus │\n",
       "│ 6   │ Course 2: Calculus 1  │\n",
       "│ 7   │ Course 2: Calculus 1  │\n",
       "│ 8   │ Course 2: Calculus 1  │\n",
       "│ 9   │ Course 2: Calculus 1  │\n",
       "│ 10  │ Course 3: Calculus 2  │\n",
       "⋮\n",
       "│ 28  │ Course 7: Circuit 1   │\n",
       "│ 29  │ Course 7: Circuit 1   │\n",
       "│ 30  │ Course 7: Circuit 1   │\n",
       "│ 31  │ Course 7: Circuit 1   │\n",
       "│ 32  │ Course 7: Circuit 1   │\n",
       "│ 33  │ Course 7: Circuit 1   │\n",
       "│ 34  │ Course 8: Circuit 2   │\n",
       "│ 35  │ Course 8: Circuit 2   │\n",
       "│ 36  │ Course 8: Circuit 2   │\n",
       "│ 37  │ Course 8: Circuit 2   │\n",
       "│ 38  │ Course 8: Circuit 2   │"
      ]
     },
     "execution_count": 2,
     "metadata": {},
     "output_type": "execute_result"
    }
   ],
   "source": [
    "df1 = DataFrame(CSV.File(\"./Cleaned_ECE.csv\"))"
   ]
  },
  {
   "cell_type": "code",
   "execution_count": 3,
   "id": "3860ca98",
   "metadata": {},
   "outputs": [
    {
     "data": {
      "text/html": [
       "<table class=\"data-frame\"><thead><tr><th></th><th>Courses</th><th>LO</th></tr><tr><th></th><th>String</th><th>String</th></tr></thead><tbody><p>38 rows × 2 columns</p><tr><th>1</th><td>Course 1: Precalculus</td><td>MA01: Analyzing and interpreting the structure of polynomial, rational, and exponential functions.</td></tr><tr><th>2</th><td>Course 1: Precalculus</td><td>MA02: Exploring mathematical reasoning used in trigonometric functions.</td></tr><tr><th>3</th><td>Course 1: Precalculus</td><td>MA03: Demonstrating and understanding of matrices and solving systems using matrix equations.</td></tr><tr><th>4</th><td>Course 1: Precalculus</td><td>MA04: Exploring and calculating theoretical probabilities and developing a probability distribution for a random variable.</td></tr><tr><th>5</th><td>Course 1: Precalculus</td><td>MA05: Classifying conic equations and constructing graphs of conic sections.</td></tr><tr><th>6</th><td>Course 2: Calculus 1</td><td>MA06: Use derivatives to analyze and graph algebraic and transcendental functions</td></tr><tr><th>7</th><td>Course 2: Calculus 1</td><td>MA07: Select and apply models and differentiation techniques to applications </td></tr><tr><th>8</th><td>Course 2: Calculus 1</td><td>MA08: Apply the Fundamental Theorem of Calculus to evaluate integrals</td></tr><tr><th>9</th><td>Course 2: Calculus 1</td><td>MA09: Use estimation techniques to approximate rates of change, area, and total change</td></tr><tr><th>10</th><td>Course 3: Calculus 2</td><td>MA10: Use techniques of analytical and numerical integration;</td></tr><tr><th>11</th><td>Course 3: Calculus 2</td><td>MA11: Apply the definite integral to problems arising in geometry and in either physics or probability</td></tr><tr><th>12</th><td>Course 3: Calculus 2</td><td>MA12: Work with the concept of infinite series and be able to calculate and use Taylor series</td></tr><tr><th>13</th><td>Course 3: Calculus 2</td><td>MA13: Analyze first order differential equations from a graphical and algebraic point of view</td></tr><tr><th>14</th><td>Course 4: Differential Equation</td><td>MA14: Explain the concept of differential equation</td></tr><tr><th>15</th><td>Course 4: Differential Equation</td><td>MA15: Solve first-order ordinary differential equations</td></tr><tr><th>16</th><td>Course 4: Differential Equation</td><td>MA16: Find solution of higher-order linear differential equations. </td></tr><tr><th>17</th><td>Course 4: Differential Equation</td><td>MA17: Solve systems of linear differential equations. </td></tr><tr><th>18</th><td>Course 4: Differential Equation</td><td>MA18: Use the Laplace transform in finding the solution of linear differential equations. </td></tr><tr><th>19</th><td>Courses 5: Physics 1</td><td>PH01: Understand the concepts, laws, and principles used in mechanics and generate associations</td></tr><tr><th>20</th><td>Courses 5: Physics 1</td><td>PH02: Understand different type of energy and be able to analyze related parameters in a motion system</td></tr><tr><th>21</th><td>Courses 5: Physics 1</td><td>PH03: Use fundamental physical principles to understand how everyday objects work.</td></tr><tr><th>22</th><td>Courses 5: Physics 1</td><td>PH04: Understand and analyze typical periodic motion system</td></tr><tr><th>23</th><td>Courses 6: Physics 2</td><td>PH05: Understand Coulomb's and Gauss' Laws</td></tr><tr><th>24</th><td>Courses 6: Physics 2</td><td>PH06: Basic understanding of electric fields and potentials, electrical and magnetic properties of matter</td></tr><tr><th>25</th><td>Courses 6: Physics 2</td><td>PH07: Use of Ampere's and Faraday's Laws to understand induced electromotive forces</td></tr><tr><th>26</th><td>Courses 6: Physics 2</td><td>PH08: Ability to analyze elementary DC and AC circuits,</td></tr><tr><th>27</th><td>Courses 6: Physics 2</td><td>PH09: Understand electromagnetic waves and Maxwell's equations.</td></tr><tr><th>28</th><td>Course 7: Circuit 1</td><td>EE01: Understand ideal basic circuit elements, power, and energy</td></tr><tr><th>29</th><td>Course 7: Circuit 1</td><td>EE02: Ability to construct basic electrical circuits, and apply Omh's law and Kirchhoff's laws</td></tr><tr><th>30</th><td>Course 7: Circuit 1</td><td>EE03: Ability to analyze simple resistive circuits, voltage divider circuits, and current-divider circuits</td></tr><tr><th>&vellip;</th><td>&vellip;</td><td>&vellip;</td></tr></tbody></table>"
      ],
      "text/latex": [
       "\\begin{tabular}{r|cc}\n",
       "\t& Courses & LO\\\\\n",
       "\t\\hline\n",
       "\t& String & String\\\\\n",
       "\t\\hline\n",
       "\t1 & Course 1: Precalculus & MA01: Analyzing and interpreting the structure of polynomial, rational, and exponential functions. \\\\\n",
       "\t2 & Course 1: Precalculus & MA02: Exploring mathematical reasoning used in trigonometric functions. \\\\\n",
       "\t3 & Course 1: Precalculus & MA03: Demonstrating and understanding of matrices and solving systems using matrix equations. \\\\\n",
       "\t4 & Course 1: Precalculus & MA04: Exploring and calculating theoretical probabilities and developing a probability distribution for a random variable. \\\\\n",
       "\t5 & Course 1: Precalculus & MA05: Classifying conic equations and constructing graphs of conic sections. \\\\\n",
       "\t6 & Course 2: Calculus 1 & MA06: Use derivatives to analyze and graph algebraic and transcendental functions \\\\\n",
       "\t7 & Course 2: Calculus 1 & MA07: Select and apply models and differentiation techniques to applications  \\\\\n",
       "\t8 & Course 2: Calculus 1 & MA08: Apply the Fundamental Theorem of Calculus to evaluate integrals \\\\\n",
       "\t9 & Course 2: Calculus 1 & MA09: Use estimation techniques to approximate rates of change, area, and total change \\\\\n",
       "\t10 & Course 3: Calculus 2 & MA10: Use techniques of analytical and numerical integration; \\\\\n",
       "\t11 & Course 3: Calculus 2 & MA11: Apply the definite integral to problems arising in geometry and in either physics or probability \\\\\n",
       "\t12 & Course 3: Calculus 2 & MA12: Work with the concept of infinite series and be able to calculate and use Taylor series \\\\\n",
       "\t13 & Course 3: Calculus 2 & MA13: Analyze first order differential equations from a graphical and algebraic point of view \\\\\n",
       "\t14 & Course 4: Differential Equation & MA14: Explain the concept of differential equation \\\\\n",
       "\t15 & Course 4: Differential Equation & MA15: Solve first-order ordinary differential equations \\\\\n",
       "\t16 & Course 4: Differential Equation & MA16: Find solution of higher-order linear differential equations.  \\\\\n",
       "\t17 & Course 4: Differential Equation & MA17: Solve systems of linear differential equations.  \\\\\n",
       "\t18 & Course 4: Differential Equation & MA18: Use the Laplace transform in finding the solution of linear differential equations.  \\\\\n",
       "\t19 & Courses 5: Physics 1 & PH01: Understand the concepts, laws, and principles used in mechanics and generate associations \\\\\n",
       "\t20 & Courses 5: Physics 1 & PH02: Understand different type of energy and be able to analyze related parameters in a motion system \\\\\n",
       "\t21 & Courses 5: Physics 1 & PH03: Use fundamental physical principles to understand how everyday objects work. \\\\\n",
       "\t22 & Courses 5: Physics 1 & PH04: Understand and analyze typical periodic motion system \\\\\n",
       "\t23 & Courses 6: Physics 2 & PH05: Understand Coulomb's and Gauss' Laws \\\\\n",
       "\t24 & Courses 6: Physics 2 & PH06: Basic understanding of electric fields and potentials, electrical and magnetic properties of matter \\\\\n",
       "\t25 & Courses 6: Physics 2 & PH07: Use of Ampere's and Faraday's Laws to understand induced electromotive forces \\\\\n",
       "\t26 & Courses 6: Physics 2 & PH08: Ability to analyze elementary DC and AC circuits, \\\\\n",
       "\t27 & Courses 6: Physics 2 & PH09: Understand electromagnetic waves and Maxwell's equations. \\\\\n",
       "\t28 & Course 7: Circuit 1 & EE01: Understand ideal basic circuit elements, power, and energy \\\\\n",
       "\t29 & Course 7: Circuit 1 & EE02: Ability to construct basic electrical circuits, and apply Omh's law and Kirchhoff's laws \\\\\n",
       "\t30 & Course 7: Circuit 1 & EE03: Ability to analyze simple resistive circuits, voltage divider circuits, and current-divider circuits \\\\\n",
       "\t$\\dots$ & $\\dots$ & $\\dots$ \\\\\n",
       "\\end{tabular}\n"
      ],
      "text/plain": [
       "38×2 DataFrame. Omitted printing of 1 columns\n",
       "│ Row │ Courses               │\n",
       "│     │ \u001b[90mString\u001b[39m                │\n",
       "├─────┼───────────────────────┤\n",
       "│ 1   │ Course 1: Precalculus │\n",
       "│ 2   │ Course 1: Precalculus │\n",
       "│ 3   │ Course 1: Precalculus │\n",
       "│ 4   │ Course 1: Precalculus │\n",
       "│ 5   │ Course 1: Precalculus │\n",
       "│ 6   │ Course 2: Calculus 1  │\n",
       "│ 7   │ Course 2: Calculus 1  │\n",
       "│ 8   │ Course 2: Calculus 1  │\n",
       "│ 9   │ Course 2: Calculus 1  │\n",
       "│ 10  │ Course 3: Calculus 2  │\n",
       "⋮\n",
       "│ 28  │ Course 7: Circuit 1   │\n",
       "│ 29  │ Course 7: Circuit 1   │\n",
       "│ 30  │ Course 7: Circuit 1   │\n",
       "│ 31  │ Course 7: Circuit 1   │\n",
       "│ 32  │ Course 7: Circuit 1   │\n",
       "│ 33  │ Course 7: Circuit 1   │\n",
       "│ 34  │ Course 8: Circuit 2   │\n",
       "│ 35  │ Course 8: Circuit 2   │\n",
       "│ 36  │ Course 8: Circuit 2   │\n",
       "│ 37  │ Course 8: Circuit 2   │\n",
       "│ 38  │ Course 8: Circuit 2   │"
      ]
     },
     "execution_count": 3,
     "metadata": {},
     "output_type": "execute_result"
    }
   ],
   "source": [
    "df2 = df1[:, 1:2]"
   ]
  },
  {
   "cell_type": "code",
   "execution_count": 6,
   "id": "30ef1d70",
   "metadata": {},
   "outputs": [
    {
     "data": {
      "text/plain": [
       "\"./ECE_LO_Color.csv\""
      ]
     },
     "execution_count": 6,
     "metadata": {},
     "output_type": "execute_result"
    }
   ],
   "source": [
    "df2[!, :Colors] .= \"\"\n",
    "for row in eachrow(df2)\n",
    "    if (row.Courses === \"Course 1: Precalculus\")\n",
    "        row.Colors = \"#ff5733\"\n",
    "    elseif (row.Courses === \"Course 2: Calculus 1\")\n",
    "        row.Colors = \"#ffac33\"\n",
    "    elseif (row.Courses === \"Course 3: Calculus 2\")\n",
    "        row.Colors = \"#ffff33\"\n",
    "    elseif (row.Courses === \"Course 4: Differential Equation\")\n",
    "        row.Colors = \"#99ff33\"\n",
    "    elseif (row.Courses === \"Course 5: Physics 1\")\n",
    "        row.Colors = \"#33ffac\"\n",
    "    elseif (row.Courses === \"Course 6: Physics 2\")\n",
    "        row.Colors = \"#33ffe6\"\n",
    "    elseif (row.Courses === \"Course 7: Circuit 1\")\n",
    "        row.Colors = \"#33c1ff\"\n",
    "    else\n",
    "        row.Colors = \"#3355ff\"\n",
    "    end\n",
    "end\n",
    "\n",
    "rename!(df2, [:name, :lo, :color])\n",
    "\n",
    "CSV.write(\"./ECE_LO_Color.csv\", df2)"
   ]
  },
  {
   "cell_type": "code",
   "execution_count": 9,
   "id": "9c615c56",
   "metadata": {},
   "outputs": [
    {
     "data": {
      "text/html": [
       "<table class=\"data-frame\"><thead><tr><th></th><th>name</th><th>color</th></tr><tr><th></th><th>String</th><th>String</th></tr></thead><tbody><p>38 rows × 2 columns</p><tr><th>1</th><td>Course 1: Precalculus</td><td>#ff5733</td></tr><tr><th>2</th><td>Course 1: Precalculus</td><td>#ff5733</td></tr><tr><th>3</th><td>Course 1: Precalculus</td><td>#ff5733</td></tr><tr><th>4</th><td>Course 1: Precalculus</td><td>#ff5733</td></tr><tr><th>5</th><td>Course 1: Precalculus</td><td>#ff5733</td></tr><tr><th>6</th><td>Course 2: Calculus 1</td><td>#ffac33</td></tr><tr><th>7</th><td>Course 2: Calculus 1</td><td>#ffac33</td></tr><tr><th>8</th><td>Course 2: Calculus 1</td><td>#ffac33</td></tr><tr><th>9</th><td>Course 2: Calculus 1</td><td>#ffac33</td></tr><tr><th>10</th><td>Course 3: Calculus 2</td><td>#ffff33</td></tr><tr><th>11</th><td>Course 3: Calculus 2</td><td>#ffff33</td></tr><tr><th>12</th><td>Course 3: Calculus 2</td><td>#ffff33</td></tr><tr><th>13</th><td>Course 3: Calculus 2</td><td>#ffff33</td></tr><tr><th>14</th><td>Course 4: Differential Equation</td><td>#99ff33</td></tr><tr><th>15</th><td>Course 4: Differential Equation</td><td>#99ff33</td></tr><tr><th>16</th><td>Course 4: Differential Equation</td><td>#99ff33</td></tr><tr><th>17</th><td>Course 4: Differential Equation</td><td>#99ff33</td></tr><tr><th>18</th><td>Course 4: Differential Equation</td><td>#99ff33</td></tr><tr><th>19</th><td>Courses 5: Physics 1</td><td>#3355ff</td></tr><tr><th>20</th><td>Courses 5: Physics 1</td><td>#3355ff</td></tr><tr><th>21</th><td>Courses 5: Physics 1</td><td>#3355ff</td></tr><tr><th>22</th><td>Courses 5: Physics 1</td><td>#3355ff</td></tr><tr><th>23</th><td>Courses 6: Physics 2</td><td>#3355ff</td></tr><tr><th>24</th><td>Courses 6: Physics 2</td><td>#3355ff</td></tr><tr><th>25</th><td>Courses 6: Physics 2</td><td>#3355ff</td></tr><tr><th>26</th><td>Courses 6: Physics 2</td><td>#3355ff</td></tr><tr><th>27</th><td>Courses 6: Physics 2</td><td>#3355ff</td></tr><tr><th>28</th><td>Course 7: Circuit 1</td><td>#33c1ff</td></tr><tr><th>29</th><td>Course 7: Circuit 1</td><td>#33c1ff</td></tr><tr><th>30</th><td>Course 7: Circuit 1</td><td>#33c1ff</td></tr><tr><th>&vellip;</th><td>&vellip;</td><td>&vellip;</td></tr></tbody></table>"
      ],
      "text/latex": [
       "\\begin{tabular}{r|cc}\n",
       "\t& name & color\\\\\n",
       "\t\\hline\n",
       "\t& String & String\\\\\n",
       "\t\\hline\n",
       "\t1 & Course 1: Precalculus & \\#ff5733 \\\\\n",
       "\t2 & Course 1: Precalculus & \\#ff5733 \\\\\n",
       "\t3 & Course 1: Precalculus & \\#ff5733 \\\\\n",
       "\t4 & Course 1: Precalculus & \\#ff5733 \\\\\n",
       "\t5 & Course 1: Precalculus & \\#ff5733 \\\\\n",
       "\t6 & Course 2: Calculus 1 & \\#ffac33 \\\\\n",
       "\t7 & Course 2: Calculus 1 & \\#ffac33 \\\\\n",
       "\t8 & Course 2: Calculus 1 & \\#ffac33 \\\\\n",
       "\t9 & Course 2: Calculus 1 & \\#ffac33 \\\\\n",
       "\t10 & Course 3: Calculus 2 & \\#ffff33 \\\\\n",
       "\t11 & Course 3: Calculus 2 & \\#ffff33 \\\\\n",
       "\t12 & Course 3: Calculus 2 & \\#ffff33 \\\\\n",
       "\t13 & Course 3: Calculus 2 & \\#ffff33 \\\\\n",
       "\t14 & Course 4: Differential Equation & \\#99ff33 \\\\\n",
       "\t15 & Course 4: Differential Equation & \\#99ff33 \\\\\n",
       "\t16 & Course 4: Differential Equation & \\#99ff33 \\\\\n",
       "\t17 & Course 4: Differential Equation & \\#99ff33 \\\\\n",
       "\t18 & Course 4: Differential Equation & \\#99ff33 \\\\\n",
       "\t19 & Courses 5: Physics 1 & \\#3355ff \\\\\n",
       "\t20 & Courses 5: Physics 1 & \\#3355ff \\\\\n",
       "\t21 & Courses 5: Physics 1 & \\#3355ff \\\\\n",
       "\t22 & Courses 5: Physics 1 & \\#3355ff \\\\\n",
       "\t23 & Courses 6: Physics 2 & \\#3355ff \\\\\n",
       "\t24 & Courses 6: Physics 2 & \\#3355ff \\\\\n",
       "\t25 & Courses 6: Physics 2 & \\#3355ff \\\\\n",
       "\t26 & Courses 6: Physics 2 & \\#3355ff \\\\\n",
       "\t27 & Courses 6: Physics 2 & \\#3355ff \\\\\n",
       "\t28 & Course 7: Circuit 1 & \\#33c1ff \\\\\n",
       "\t29 & Course 7: Circuit 1 & \\#33c1ff \\\\\n",
       "\t30 & Course 7: Circuit 1 & \\#33c1ff \\\\\n",
       "\t$\\dots$ & $\\dots$ & $\\dots$ \\\\\n",
       "\\end{tabular}\n"
      ],
      "text/plain": [
       "38×2 DataFrame\n",
       "│ Row │ name                  │ color   │\n",
       "│     │ \u001b[90mString\u001b[39m                │ \u001b[90mString\u001b[39m  │\n",
       "├─────┼───────────────────────┼─────────┤\n",
       "│ 1   │ Course 1: Precalculus │ #ff5733 │\n",
       "│ 2   │ Course 1: Precalculus │ #ff5733 │\n",
       "│ 3   │ Course 1: Precalculus │ #ff5733 │\n",
       "│ 4   │ Course 1: Precalculus │ #ff5733 │\n",
       "│ 5   │ Course 1: Precalculus │ #ff5733 │\n",
       "│ 6   │ Course 2: Calculus 1  │ #ffac33 │\n",
       "│ 7   │ Course 2: Calculus 1  │ #ffac33 │\n",
       "│ 8   │ Course 2: Calculus 1  │ #ffac33 │\n",
       "│ 9   │ Course 2: Calculus 1  │ #ffac33 │\n",
       "│ 10  │ Course 3: Calculus 2  │ #ffff33 │\n",
       "⋮\n",
       "│ 28  │ Course 7: Circuit 1   │ #33c1ff │\n",
       "│ 29  │ Course 7: Circuit 1   │ #33c1ff │\n",
       "│ 30  │ Course 7: Circuit 1   │ #33c1ff │\n",
       "│ 31  │ Course 7: Circuit 1   │ #33c1ff │\n",
       "│ 32  │ Course 7: Circuit 1   │ #33c1ff │\n",
       "│ 33  │ Course 7: Circuit 1   │ #33c1ff │\n",
       "│ 34  │ Course 8: Circuit 2   │ #3355ff │\n",
       "│ 35  │ Course 8: Circuit 2   │ #3355ff │\n",
       "│ 36  │ Course 8: Circuit 2   │ #3355ff │\n",
       "│ 37  │ Course 8: Circuit 2   │ #3355ff │\n",
       "│ 38  │ Course 8: Circuit 2   │ #3355ff │"
      ]
     },
     "execution_count": 9,
     "metadata": {},
     "output_type": "execute_result"
    }
   ],
   "source": [
    "df3 = DataFrame(CSV.File(\"./ECE_LO_Color.csv\"))\n",
    "df3[:,[1,3]]"
   ]
  },
  {
   "cell_type": "code",
   "execution_count": null,
   "id": "c9876b09",
   "metadata": {},
   "outputs": [],
   "source": []
  }
 ],
 "metadata": {
  "@webio": {
   "lastCommId": null,
   "lastKernelId": null
  },
  "kernelspec": {
   "display_name": "Julia 1.8.0",
   "language": "julia",
   "name": "julia-1.8"
  },
  "language_info": {
   "file_extension": ".jl",
   "mimetype": "application/julia",
   "name": "julia",
   "version": "1.8.0"
  }
 },
 "nbformat": 4,
 "nbformat_minor": 5
}
